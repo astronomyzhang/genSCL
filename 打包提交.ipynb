{
 "cells": [
  {
   "cell_type": "code",
   "execution_count": 1,
   "id": "fd663e3f-ca29-4624-9dba-395aa3afb844",
   "metadata": {},
   "outputs": [],
   "source": [
    "import os\n",
    "import shutil\n",
    "import json\n",
    "from datetime import datetime"
   ]
  },
  {
   "cell_type": "code",
   "execution_count": 2,
   "id": "2c7b1eca-9c0b-4ded-a49c-58c797de4fbb",
   "metadata": {},
   "outputs": [],
   "source": [
    "package = \"./package\"\n",
    "packagename = \"dyn-\" + datetime.now().strftime(\"%Y-%m-%d\") + \".jsonl\"\n",
    "packagepath = os.path.join(package, packagename)\n",
    "with open(packagepath, 'w', encoding='utf-8') as f:\n",
    "    pass"
   ]
  },
  {
   "cell_type": "code",
   "execution_count": 3,
   "id": "273aed18-e91f-4b98-b7e7-c4b9192053e4",
   "metadata": {},
   "outputs": [
    {
     "name": "stdout",
     "output_type": "stream",
     "text": [
      "文件 './package\\dyn-2024-07-25.jsonl' 已成功删除\n"
     ]
    }
   ],
   "source": [
    "# 指定要删除的文件路径\n",
    "file_path =  os.path.join(package, packagename)\n",
    "\n",
    "# 删除文件\n",
    "if os.path.exists(file_path):\n",
    "    os.remove(file_path)\n",
    "    print(f\"文件 '{file_path}' 已成功删除\")\n",
    "else:\n",
    "    print(f\"文件 '{file_path}' 不存在\")"
   ]
  },
  {
   "cell_type": "code",
   "execution_count": 4,
   "id": "00ff76ab-f63d-4b79-a074-97cd1035f45c",
   "metadata": {},
   "outputs": [
    {
     "name": "stdout",
     "output_type": "stream",
     "text": [
      "文件夹 './output//.ipynb_checkpoints' 已成功删除\n",
      "FB_BottleProcessing\n",
      "FB_CalculateDayOfYear\n",
      "FB_ColorLightControl\n",
      "FB_DatabaseManager\n",
      "FB_LinearizeValue\n",
      "FB_ProductionLineControl\n",
      "FB_RecipeManager\n",
      "FB_SplitNumber\n",
      "FB_SplitWordIntoBytes\n",
      "FB_WarehouseManagement\n"
     ]
    }
   ],
   "source": [
    "# 打包路径\n",
    "directory = \"./output/\"\n",
    "folder_path = directory + \"/.ipynb_checkpoints\"\n",
    "# 删除非空文件夹\n",
    "if os.path.exists(folder_path):\n",
    "    shutil.rmtree(folder_path)\n",
    "    print(f\"文件夹 '{folder_path}' 已成功删除\")\n",
    "\n",
    "for root, dirs, files in os.walk(directory):\n",
    "    for file in files:\n",
    "        item = {}\n",
    "        filepath = os.path.join(root, file)\n",
    "        casename = file.split(\"-\")[0]\n",
    "        print(casename)\n",
    "        with open(filepath, 'r', encoding='utf-8') as file:\n",
    "            answer = file.read()\n",
    "        item[\"name\"] = casename\n",
    "        item[\"code\"] = answer\n",
    "        with open(packagepath, 'a', encoding='utf-8') as f:\n",
    "            case = json.dumps(item, ensure_ascii=False)\n",
    "            f.write(case + '\\n')"
   ]
  },
  {
   "cell_type": "code",
   "execution_count": 6,
   "id": "34cbc6bb-3337-4a2b-8f25-09cf79a9bee0",
   "metadata": {},
   "outputs": [
    {
     "data": {
      "text/plain": [
       "'fdsafdsafewrqewqrew---whoisyourdaddy---'"
      ]
     },
     "execution_count": 6,
     "metadata": {},
     "output_type": "execute_result"
    }
   ],
   "source": [
    "x=\"fdsafdsafewrqewqrew{name}\"\n",
    "myname = \"---whoisyourdaddy---\"\n",
    "x.format(name=myname)"
   ]
  },
  {
   "cell_type": "code",
   "execution_count": 7,
   "id": "69f64828-74eb-4195-8a01-4c4b3ad19b68",
   "metadata": {},
   "outputs": [
    {
     "data": {
      "text/plain": [
       "'fdsafdsafewrqewqrew{name}'"
      ]
     },
     "execution_count": 7,
     "metadata": {},
     "output_type": "execute_result"
    }
   ],
   "source": [
    "x"
   ]
  },
  {
   "cell_type": "code",
   "execution_count": null,
   "id": "49a3d14e-665c-407e-85f8-bc19508747a2",
   "metadata": {},
   "outputs": [],
   "source": []
  }
 ],
 "metadata": {
  "kernelspec": {
   "display_name": "Python 3 (ipykernel)",
   "language": "python",
   "name": "python3"
  },
  "language_info": {
   "codemirror_mode": {
    "name": "ipython",
    "version": 3
   },
   "file_extension": ".py",
   "mimetype": "text/x-python",
   "name": "python",
   "nbconvert_exporter": "python",
   "pygments_lexer": "ipython3",
   "version": "3.11.0"
  }
 },
 "nbformat": 4,
 "nbformat_minor": 5
}
