{
 "cells": [
  {
   "cell_type": "code",
   "execution_count": 5,
   "id": "e9eb1483-21af-46a4-9a99-441843c32fbe",
   "metadata": {},
   "outputs": [],
   "source": [
    "import os\n",
    "import json\n",
    "import shutil"
   ]
  },
  {
   "cell_type": "code",
   "execution_count": 6,
   "id": "9d14ae97-d079-4d95-abae-a70229a8c527",
   "metadata": {},
   "outputs": [
    {
     "name": "stdout",
     "output_type": "stream",
     "text": [
      "文件夹 './sample/.ipynb_checkpoints' 已成功删除\n",
      "文件夹 './sample/Examples.txt' 已成功删除\n",
      "GetBitStates.scl\n",
      "DTLToString_ISO.scl\n",
      "ExtractStringFromCharArray.scl\n",
      "FB_BottleProcessing.scl\n",
      "FB_CalculateDayOfYear.scl\n",
      "FB_ColorLightControl.scl\n",
      "FB_DatabaseManager.scl\n",
      "FB_LinearizeValue.scl\n",
      "FB_ProductionLineControl.scl\n",
      "FB_RecipeManager.scl\n",
      "FB_SplitNumber.scl\n",
      "FB_SplitWordIntoBytes.scl\n",
      "FB_WarehouseManagement.scl\n",
      "FIFO.scl\n",
      "FloatingAverage.scl\n",
      "Integration.scl\n",
      "LightControl.scl\n",
      "MatrixAddition.scl\n",
      "RandomRange_DInt.scl\n",
      "SearchMinMax_DInt.scl\n",
      "Frequency.scl\n",
      "ShellSort_DInt.scl\n",
      "StackMin.scl\n",
      "StringToTaddr.scl\n",
      "TempCtrl.scl\n"
     ]
    }
   ],
   "source": [
    "directory = \"./sample/\"\n",
    "sampleName = \"Examples.txt\"\n",
    "examplePath = directory + sampleName\n",
    "index = 1\n",
    "\n",
    "# 指定要删除的文件夹路径\n",
    "folder_path = './sample/.ipynb_checkpoints'\n",
    "\n",
    "# 删除非空文件夹\n",
    "if os.path.exists(folder_path):\n",
    "    shutil.rmtree(folder_path)\n",
    "    print(f\"文件夹 '{folder_path}' 已成功删除\")\n",
    "\n",
    "\n",
    "# 删除非空文件夹\n",
    "if os.path.exists(examplePath):\n",
    "    os.remove(examplePath)\n",
    "    print(f\"文件夹 '{examplePath}' 已成功删除\")\n",
    "\n",
    "for root, dirs, files in os.walk(directory):\n",
    "    for indir in dirs:\n",
    "        dir_path = os.path.join(root, indir)\n",
    "        if indir.endswith(\"ipynb_checkpoints\"):\n",
    "            # 删除非空文件夹\n",
    "            if os.path.exists(dir_path):\n",
    "                shutil.rmtree(dir_path)\n",
    "                print(f\"文件夹 '{dir_path}' 已成功删除\")\n",
    "    for file in files:\n",
    "        file_path = os.path.join(root, file)\n",
    "               \n",
    "        if file.endswith('.json'):\n",
    "            with open(file_path, 'r', encoding='utf-8') as json_file:\n",
    "                data = json.load(json_file)\n",
    "            case = json.dumps(data, ensure_ascii=False)\n",
    "            with open(examplePath, 'a', encoding='utf-8') as f:\n",
    "                f.write(\"# example \" + str(index) + '\\n')\n",
    "                f.write(\"requirement: \"+ case + '\\n')\n",
    "            index += 1\n",
    "        elif file.endswith('.scl'):\n",
    "            print(file)\n",
    "            with open(file_path, 'r', encoding='utf-8') as scl_file:\n",
    "                data = scl_file.read()\n",
    "            case = json.dumps(data, ensure_ascii=False)\n",
    "            with open(examplePath, 'a', encoding='utf-8') as f:\n",
    "                f.write(\"SCL CODE: \" + case + '\\n')"
   ]
  },
  {
   "cell_type": "code",
   "execution_count": 12,
   "id": "ec574ce5-2b09-4338-b550-09dbf55b04da",
   "metadata": {},
   "outputs": [],
   "source": [
    "import re\n",
    "response = \"FOR i := 1 to 5 do \\n   mu = a+b; \\nEND_FORcase i: \\n  if fkdskjl; FOR j:=3 to 6 do\\n END_FOR;\\n\""
   ]
  },
  {
   "cell_type": "code",
   "execution_count": 13,
   "id": "3fbc1f41-71c8-41c6-bdc3-30b782bd261f",
   "metadata": {},
   "outputs": [],
   "source": [
    "pattern = r'END_FOR(?!;)'\n",
    "if(re.search(pattern, response)):\n",
    "    # 替换为 END_IF;\n",
    "    response = re.sub(pattern, 'END_FOR;', response)"
   ]
  },
  {
   "cell_type": "code",
   "execution_count": 14,
   "id": "ddfba186-360a-4753-a3ad-e4df4ebfdb16",
   "metadata": {},
   "outputs": [
    {
     "data": {
      "text/plain": [
       "'FOR i := 1 to 5 do \\n   mu = a+b; \\nEND_FOR;case i: \\n  if fkdskjl; FOR j:=3 to 6 do\\n END_FOR;\\n'"
      ]
     },
     "execution_count": 14,
     "metadata": {},
     "output_type": "execute_result"
    }
   ],
   "source": [
    "response"
   ]
  },
  {
   "cell_type": "code",
   "execution_count": null,
   "id": "97680e16-b501-40bd-83f6-45ac1b684266",
   "metadata": {},
   "outputs": [],
   "source": []
  },
  {
   "cell_type": "code",
   "execution_count": null,
   "id": "6a17dfd2-7419-4d9c-870e-1a275728bb31",
   "metadata": {},
   "outputs": [],
   "source": []
  }
 ],
 "metadata": {
  "kernelspec": {
   "display_name": "Python 3 (ipykernel)",
   "language": "python",
   "name": "python3"
  },
  "language_info": {
   "codemirror_mode": {
    "name": "ipython",
    "version": 3
   },
   "file_extension": ".py",
   "mimetype": "text/x-python",
   "name": "python",
   "nbconvert_exporter": "python",
   "pygments_lexer": "ipython3",
   "version": "3.11.0"
  }
 },
 "nbformat": 4,
 "nbformat_minor": 5
}
